{
 "cells": [
  {
   "cell_type": "markdown",
   "id": "e7956a0c-ef74-4d22-836b-5a96e8a857b8",
   "metadata": {},
   "source": [
    "# Name: Farheen Taquee\n",
    "Notebook for assignment 7"
   ]
  },
  {
   "cell_type": "code",
   "execution_count": 1,
   "id": "574d205f-e73a-427e-89fe-dcdaff3b1a81",
   "metadata": {},
   "outputs": [
    {
     "data": {
      "text/plain": [
       "5.0"
      ]
     },
     "execution_count": 1,
     "metadata": {},
     "output_type": "execute_result"
    }
   ],
   "source": [
    "def compute_mean(list_of_numbers):\n",
    "    sum_of_number = sum(list_of_numbers)\n",
    "    n= len(list_of_numbers)\n",
    "    result = sum_of_number/n\n",
    "    return result\n",
    "compute_mean([2, 4, 6, 8])"
   ]
  },
  {
   "cell_type": "markdown",
   "id": "45c1fd42-2f4d-435d-ade1-4965076a61a9",
   "metadata": {},
   "source": [
    "The code above calculates the mean of a numbers provided in a list. A mean is represented by the following formula\n",
    "\n",
    "$$\n",
    "\\begin{aligned}\n",
    "\\bar{x} = \\frac{x_1 + x_2+ x_3 + \\dots + x_n}{n} = \\frac{1}{n} \\left( \\sum_{i=1}^{n} x_i \\right)\n",
    "\\end{aligned}\n",
    "$$\n",
    "\n",
    "As it is shown in the formula above, mean is found by adding the numbers together and then dividing the sum by the total number (quantity) of the numbers. The code works in the similar fashion. It calculates `sum_of_number' by adding all elements of the provided list and divides it by the total number of elements in a list. The sum of calculated by the using sum function and the total number of elements by using the len function. "
   ]
  }
 ],
 "metadata": {
  "kernelspec": {
   "display_name": "Python [conda env:base] *",
   "language": "python",
   "name": "conda-base-py"
  },
  "language_info": {
   "codemirror_mode": {
    "name": "ipython",
    "version": 3
   },
   "file_extension": ".py",
   "mimetype": "text/x-python",
   "name": "python",
   "nbconvert_exporter": "python",
   "pygments_lexer": "ipython3",
   "version": "3.11.9"
  }
 },
 "nbformat": 4,
 "nbformat_minor": 5
}
